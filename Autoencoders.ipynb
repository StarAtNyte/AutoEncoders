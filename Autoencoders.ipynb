{
 "cells": [
  {
   "cell_type": "code",
   "execution_count": 1,
   "id": "6557a209-d050-4109-9940-d3585bf75429",
   "metadata": {},
   "outputs": [
    {
     "name": "stdout",
     "output_type": "stream",
     "text": [
      "Requirement already satisfied: requests in /home/nitiz/anaconda3/envs/torch/lib/python3.11/site-packages (2.29.0)\n",
      "Requirement already satisfied: charset-normalizer<4,>=2 in /home/nitiz/anaconda3/envs/torch/lib/python3.11/site-packages (from requests) (2.0.4)\n",
      "Requirement already satisfied: idna<4,>=2.5 in /home/nitiz/anaconda3/envs/torch/lib/python3.11/site-packages (from requests) (3.4)\n",
      "Requirement already satisfied: urllib3<1.27,>=1.21.1 in /home/nitiz/anaconda3/envs/torch/lib/python3.11/site-packages (from requests) (1.26.15)\n",
      "Requirement already satisfied: certifi>=2017.4.17 in /home/nitiz/anaconda3/envs/torch/lib/python3.11/site-packages (from requests) (2023.5.7)\n",
      "Note: you may need to restart the kernel to use updated packages.\n"
     ]
    }
   ],
   "source": [
    "pip install requests"
   ]
  },
  {
   "cell_type": "code",
   "execution_count": 9,
   "id": "7e04099d-d6bf-4123-b3bf-f698adc1a2c4",
   "metadata": {},
   "outputs": [],
   "source": [
    "import matplotlib.pyplot as plt\n",
    "import numpy as np\n",
    "\n",
    "import torch\n",
    "import torch.nn as nn\n",
    "import torch.optim as optim\n",
    "import torchvision"
   ]
  },
  {
   "cell_type": "code",
   "execution_count": 42,
   "id": "d9b3cf75-c422-402d-a886-fd077bb673a6",
   "metadata": {},
   "outputs": [],
   "source": [
    "seed = 42\n",
    "torch.manual_seed(seed)\n",
    "torch.backends.cudnn.benchmark = False\n",
    "torch.backends.cudnn.deterministic = True"
   ]
  },
  {
   "cell_type": "code",
   "execution_count": 48,
   "id": "2087ce11-3784-45b7-ac7d-a74663f8d013",
   "metadata": {},
   "outputs": [],
   "source": [
    "batch_size = 512\n",
    "epochs = 100\n",
    "learning_rate = 1e-3"
   ]
  },
  {
   "cell_type": "code",
   "execution_count": 44,
   "id": "6499fc73-2f84-4996-94cd-b66e72decef5",
   "metadata": {},
   "outputs": [],
   "source": [
    "transform = torchvision.transforms.Compose([torchvision.transforms.ToTensor()])\n",
    "\n",
    "train_dataset = torchvision.datasets.MNIST(\n",
    "    root=\"~/torch_datasets\", train=True, transform=transform, download=True\n",
    ")\n",
    "\n",
    "train_loader = torch.utils.data.DataLoader(\n",
    "    train_dataset, batch_size=batch_size, shuffle=True\n",
    ")"
   ]
  },
  {
   "cell_type": "code",
   "execution_count": 45,
   "id": "50172c3b-c6dc-4a35-8a42-24ed12742c30",
   "metadata": {},
   "outputs": [],
   "source": [
    "class AE(nn.Module):\n",
    "    def __init__(self, **kwargs):\n",
    "        super().__init__()\n",
    "        self.encoder_hidden_layer = nn.Linear(\n",
    "            in_features=kwargs[\"input_shape\"], out_features=128\n",
    "        )\n",
    "        self.encoder_output_layer = nn.Linear(\n",
    "            in_features=128, out_features=128\n",
    "        )\n",
    "        self.decoder_hidden_layer = nn.Linear(\n",
    "            in_features=128, out_features=128\n",
    "        )\n",
    "        self.decoder_output_layer = nn.Linear(\n",
    "            in_features=128, out_features=kwargs[\"input_shape\"]\n",
    "        )\n",
    "\n",
    "    def forward(self, features):\n",
    "        activation = self.encoder_hidden_layer(features)\n",
    "        activation = torch.relu(activation)\n",
    "        code = self.encoder_output_layer(activation)\n",
    "        code = torch.sigmoid(code)\n",
    "        activation = self.decoder_hidden_layer(code)\n",
    "        activation = torch.relu(activation)\n",
    "        activation = self.decoder_output_layer(activation)\n",
    "        reconstructed = torch.sigmoid(activation)\n",
    "        return reconstructed"
   ]
  },
  {
   "cell_type": "code",
   "execution_count": 46,
   "id": "42b59b8a-03b8-4a65-9de0-a173383134fb",
   "metadata": {},
   "outputs": [],
   "source": [
    "device = torch.device(\"cuda\" if torch.cuda.is_available() else \"cpu\")\n",
    "\n",
    "model = AE(input_shape=784).to(device)\n",
    "\n",
    "optimizer = optim.Adam(model.parameters(), lr=learning_rate)\n",
    "\n",
    "criterion = nn.MSELoss()"
   ]
  },
  {
   "cell_type": "code",
   "execution_count": 49,
   "id": "0c9b6256-01d5-4630-ad73-d3552aed7e16",
   "metadata": {},
   "outputs": [
    {
     "name": "stdout",
     "output_type": "stream",
     "text": [
      "epoch : 1/100, recon loss = 0.03942671\n",
      "epoch : 2/100, recon loss = 0.03794590\n",
      "epoch : 3/100, recon loss = 0.03586266\n",
      "epoch : 4/100, recon loss = 0.03348198\n",
      "epoch : 5/100, recon loss = 0.03134171\n",
      "epoch : 6/100, recon loss = 0.02934045\n",
      "epoch : 7/100, recon loss = 0.02732071\n",
      "epoch : 8/100, recon loss = 0.02587734\n",
      "epoch : 9/100, recon loss = 0.02467648\n",
      "epoch : 10/100, recon loss = 0.02379998\n",
      "epoch : 11/100, recon loss = 0.02284766\n",
      "epoch : 12/100, recon loss = 0.02166009\n",
      "epoch : 13/100, recon loss = 0.02069024\n",
      "epoch : 14/100, recon loss = 0.01997665\n",
      "epoch : 15/100, recon loss = 0.01933771\n",
      "epoch : 16/100, recon loss = 0.01870207\n",
      "epoch : 17/100, recon loss = 0.01810561\n",
      "epoch : 18/100, recon loss = 0.01755528\n",
      "epoch : 19/100, recon loss = 0.01708764\n",
      "epoch : 20/100, recon loss = 0.01663979\n",
      "epoch : 21/100, recon loss = 0.01599353\n",
      "epoch : 22/100, recon loss = 0.01552004\n",
      "epoch : 23/100, recon loss = 0.01510501\n",
      "epoch : 24/100, recon loss = 0.01472413\n",
      "epoch : 25/100, recon loss = 0.01435679\n",
      "epoch : 26/100, recon loss = 0.01400755\n",
      "epoch : 27/100, recon loss = 0.01367193\n",
      "epoch : 28/100, recon loss = 0.01326750\n",
      "epoch : 29/100, recon loss = 0.01289561\n",
      "epoch : 30/100, recon loss = 0.01254340\n",
      "epoch : 31/100, recon loss = 0.01222076\n",
      "epoch : 32/100, recon loss = 0.01186060\n",
      "epoch : 33/100, recon loss = 0.01149317\n",
      "epoch : 34/100, recon loss = 0.01117778\n",
      "epoch : 35/100, recon loss = 0.01089773\n",
      "epoch : 36/100, recon loss = 0.01068060\n",
      "epoch : 37/100, recon loss = 0.01044830\n",
      "epoch : 38/100, recon loss = 0.01023571\n",
      "epoch : 39/100, recon loss = 0.01002753\n",
      "epoch : 40/100, recon loss = 0.00984933\n",
      "epoch : 41/100, recon loss = 0.00967037\n",
      "epoch : 42/100, recon loss = 0.00948125\n",
      "epoch : 43/100, recon loss = 0.00932132\n",
      "epoch : 44/100, recon loss = 0.00915556\n",
      "epoch : 45/100, recon loss = 0.00901611\n",
      "epoch : 46/100, recon loss = 0.00887625\n",
      "epoch : 47/100, recon loss = 0.00873614\n",
      "epoch : 48/100, recon loss = 0.00861149\n",
      "epoch : 49/100, recon loss = 0.00849450\n",
      "epoch : 50/100, recon loss = 0.00836923\n",
      "epoch : 51/100, recon loss = 0.00826006\n",
      "epoch : 52/100, recon loss = 0.00815574\n",
      "epoch : 53/100, recon loss = 0.00804611\n",
      "epoch : 54/100, recon loss = 0.00795205\n",
      "epoch : 55/100, recon loss = 0.00787628\n",
      "epoch : 56/100, recon loss = 0.00776813\n",
      "epoch : 57/100, recon loss = 0.00768711\n",
      "epoch : 58/100, recon loss = 0.00759785\n",
      "epoch : 59/100, recon loss = 0.00749504\n",
      "epoch : 60/100, recon loss = 0.00740287\n",
      "epoch : 61/100, recon loss = 0.00731134\n",
      "epoch : 62/100, recon loss = 0.00723363\n",
      "epoch : 63/100, recon loss = 0.00714659\n",
      "epoch : 64/100, recon loss = 0.00706563\n",
      "epoch : 65/100, recon loss = 0.00699469\n",
      "epoch : 66/100, recon loss = 0.00692807\n",
      "epoch : 67/100, recon loss = 0.00685483\n",
      "epoch : 68/100, recon loss = 0.00678063\n",
      "epoch : 69/100, recon loss = 0.00671059\n",
      "epoch : 70/100, recon loss = 0.00664226\n",
      "epoch : 71/100, recon loss = 0.00657642\n",
      "epoch : 72/100, recon loss = 0.00649381\n",
      "epoch : 73/100, recon loss = 0.00645167\n",
      "epoch : 74/100, recon loss = 0.00637615\n",
      "epoch : 75/100, recon loss = 0.00629838\n",
      "epoch : 76/100, recon loss = 0.00622622\n",
      "epoch : 77/100, recon loss = 0.00616961\n",
      "epoch : 78/100, recon loss = 0.00610725\n",
      "epoch : 79/100, recon loss = 0.00605430\n",
      "epoch : 80/100, recon loss = 0.00600727\n",
      "epoch : 81/100, recon loss = 0.00594333\n",
      "epoch : 82/100, recon loss = 0.00590369\n",
      "epoch : 83/100, recon loss = 0.00584135\n",
      "epoch : 84/100, recon loss = 0.00579941\n",
      "epoch : 85/100, recon loss = 0.00575217\n",
      "epoch : 86/100, recon loss = 0.00570468\n",
      "epoch : 87/100, recon loss = 0.00566667\n",
      "epoch : 88/100, recon loss = 0.00561360\n",
      "epoch : 89/100, recon loss = 0.00558791\n",
      "epoch : 90/100, recon loss = 0.00553760\n",
      "epoch : 91/100, recon loss = 0.00551006\n",
      "epoch : 92/100, recon loss = 0.00545820\n",
      "epoch : 93/100, recon loss = 0.00542596\n",
      "epoch : 94/100, recon loss = 0.00540001\n",
      "epoch : 95/100, recon loss = 0.00535920\n",
      "epoch : 96/100, recon loss = 0.00532815\n",
      "epoch : 97/100, recon loss = 0.00529632\n",
      "epoch : 98/100, recon loss = 0.00527067\n",
      "epoch : 99/100, recon loss = 0.00524060\n",
      "epoch : 100/100, recon loss = 0.00522195\n"
     ]
    }
   ],
   "source": [
    "\n",
    "for epoch in range(epochs):\n",
    "    loss = 0\n",
    "    for batch_features, _ in train_loader:\n",
    "        batch_features = batch_features.view(-1, 784).to(device)\n",
    "        \n",
    "        optimizer.zero_grad()\n",
    "        \n",
    "        outputs = model(batch_features)\n",
    "        \n",
    "        train_loss = criterion(outputs, batch_features)\n",
    "        \n",
    "        train_loss.backward()\n",
    "        \n",
    "        optimizer.step()\n",
    "        \n",
    "        loss += train_loss.item()\n",
    "    \n",
    "    loss = loss / len(train_loader)\n",
    "    \n",
    "    print(\"epoch : {}/{}, recon loss = {:.8f}\".format(epoch + 1, epochs, loss))"
   ]
  },
  {
   "cell_type": "code",
   "execution_count": 51,
   "id": "a830ec09-0cb7-4637-beb0-2f6bc0881ab5",
   "metadata": {},
   "outputs": [],
   "source": [
    "test_dataset = torchvision.datasets.MNIST(\n",
    "    root=\"~/torch_datasets\", train=False, transform=transform, download=True\n",
    ")\n",
    "\n",
    "test_loader = torch.utils.data.DataLoader(\n",
    "    test_dataset, batch_size=10, shuffle=False\n",
    ")\n",
    "\n",
    "test_examples = None\n",
    "\n",
    "with torch.no_grad():\n",
    "    for batch_features in test_loader:\n",
    "        batch_features = batch_features[0]\n",
    "        test_examples = batch_features.view(-1, 784).to(device)\n",
    "        reconstruction = model(test_examples)\n",
    "        break"
   ]
  },
  {
   "cell_type": "code",
   "execution_count": 53,
   "id": "92b770c8-7fc6-4a90-bc53-2cb39b878a8b",
   "metadata": {},
   "outputs": [
    {
     "data": {
      "image/png": "[encoded data removed]",
      "text/plain": [
       "<Figure size 2000x400 with 20 Axes>"
      ]
     },
     "metadata": {},
     "output_type": "display_data"
    }
   ],
   "source": [
    "with torch.no_grad():\n",
    "    number = 10\n",
    "    plt.figure(figsize=(20, 4))\n",
    "    for index in range(number):\n",
    "        ax = plt.subplot(2, number, index + 1)\n",
    "        plt.imshow(test_examples[index].cpu().numpy().reshape(28, 28))\n",
    "        plt.gray()\n",
    "        ax.get_xaxis().set_visible(False)\n",
    "        ax.get_yaxis().set_visible(False)\n",
    "\n",
    "        ax = plt.subplot(2, number, index + 1 + number)\n",
    "        plt.imshow(reconstruction[index].cpu().numpy().reshape(28, 28))\n",
    "        plt.gray()\n",
    "        ax.get_xaxis().set_visible(False)\n",
    "        ax.get_yaxis().set_visible(False)\n",
    "    plt.show()"
   ]
  },
  {
   "cell_type": "markdown",
   "id": "c5633c10-2d6f-49bb-8932-44f95b45448e",
   "metadata": {},
   "source": [
    "## Variational Autoencoders"
   ]
  },
  {
   "cell_type": "code",
   "execution_count": 22,
   "id": "243e6dd8-c7ba-4dd5-8160-a2f1c6070fb2",
   "metadata": {},
   "outputs": [],
   "source": [
    "class VariationalAutoEncoder(nn.Module):\n",
    "    def __init__(self, input_dim, z_dim, h_dim=200):\n",
    "        super().__init__()\n",
    "        self.img_2hid = nn.Linear(input_dim, h_dim)\n",
    "\n",
    "        self.hid_2mu = nn.Linear(h_dim, z_dim)\n",
    "        self.hid_2sigma = nn.Linear(h_dim, z_dim)\n",
    "\n",
    "        self.z_2hid = nn.Linear(z_dim, h_dim)\n",
    "        self.hid_2img = nn.Linear(h_dim, input_dim)\n",
    "\n",
    "    def encode(self, x):\n",
    "        h = F.relu(self.img_2hid(x))\n",
    "        mu = self.hid_2mu(h)\n",
    "        sigma = self.hid_2sigma(h)\n",
    "        return mu, sigma\n",
    "\n",
    "    def decode(self, z):\n",
    "        new_h = F.relu(self.z_2hid(z))\n",
    "        x = torch.sigmoid(self.hid_2img(new_h))\n",
    "        return x\n",
    "\n",
    "    def forward(self, x):\n",
    "        mu, sigma = self.encode(x)\n",
    "\n",
    "        epsilon = torch.randn_like(sigma)\n",
    "        z_reparametrized = mu + sigma*epsilon\n",
    "\n",
    "        x = self.decode(z_reparametrized)\n",
    "        return x, mu, sigma\n"
   ]
  },
  {
   "cell_type": "code",
   "execution_count": 24,
   "id": "9ef0ec8e-02d2-4821-a1a6-6c976750724c",
   "metadata": {},
   "outputs": [],
   "source": [
    "device = 'cpu'\n",
    "INPUT_DIM = 784\n",
    "Z_DIM = 20\n",
    "H_DIM = 200\n",
    "NUM_EPOCHS = 10\n",
    "BATCH_SIZE = 32\n",
    "LR_RATE = 3e-4\n"
   ]
  },
  {
   "cell_type": "code",
   "execution_count": 25,
   "id": "231ec005-fbb1-4dcf-a658-886b70f16748",
   "metadata": {},
   "outputs": [],
   "source": [
    "import torchvision.datasets as datasets  \n",
    "import torchvision.transforms as transforms\n",
    "dataset = datasets.MNIST(root=\"dataset/\", train=True, transform=transforms.ToTensor(), download=True)\n",
    "import torch.nn.functional as F"
   ]
  },
  {
   "cell_type": "code",
   "execution_count": 26,
   "id": "b6011cbc-c3ea-4da7-a158-2740b056b6a9",
   "metadata": {},
   "outputs": [],
   "source": [
    "from torch.utils.data import DataLoader  \n",
    "train_loader = DataLoader(dataset=dataset, batch_size=BATCH_SIZE, shuffle=True)"
   ]
  },
  {
   "cell_type": "code",
   "execution_count": 27,
   "id": "5ff50cf2-65df-4850-9d4e-c611eefc129f",
   "metadata": {},
   "outputs": [],
   "source": [
    "def train(num_epochs, model, optimizer, loss_fn):\n",
    "    for epoch in range(num_epochs):\n",
    "        loop = tqdm(enumerate(train_loader))\n",
    "        for i, (x, y) in loop:\n",
    "            x = x.to(device).view(-1, INPUT_DIM)\n",
    "            x_reconst, mu, sigma = model(x)\n",
    "\n",
    "            reconst_loss = loss_fn(x_reconst, x)\n",
    "            kl_div = - torch.sum(1 + torch.log(sigma.pow(2)) - mu.pow(2) - sigma.pow(2))\n",
    "\n",
    "            loss = reconst_loss + kl_div\n",
    "            optimizer.zero_grad()\n",
    "            loss.backward()\n",
    "            optimizer.step()\n",
    "            loop.set_postfix(loss=loss.item())"
   ]
  },
  {
   "cell_type": "code",
   "execution_count": 28,
   "id": "a5251e5c-eb46-4201-9281-36da80d23e71",
   "metadata": {},
   "outputs": [
    {
     "name": "stderr",
     "output_type": "stream",
     "text": [
      "1875it [00:08, 216.02it/s, loss=5.57e+3]\n",
      "1875it [00:08, 216.93it/s, loss=4.78e+3]\n",
      "1875it [00:08, 214.09it/s, loss=4.55e+3]\n",
      "1875it [00:08, 215.53it/s, loss=4.15e+3]\n",
      "1875it [00:08, 209.98it/s, loss=4.26e+3]\n",
      "1875it [00:08, 211.59it/s, loss=4.06e+3]\n",
      "1875it [00:09, 205.79it/s, loss=4.01e+3]\n",
      "1875it [00:09, 203.54it/s, loss=4.37e+3]\n",
      "1875it [00:09, 207.12it/s, loss=4.26e+3]\n",
      "1875it [00:09, 205.78it/s, loss=4.09e+3]\n"
     ]
    }
   ],
   "source": [
    "from tqdm import tqdm\n",
    "model = VariationalAutoEncoder(INPUT_DIM, Z_DIM).to(device)\n",
    "optimizer = torch.optim.Adam(model.parameters(), lr=LR_RATE)\n",
    "loss_fn = nn.BCELoss(reduction=\"sum\")\n",
    "\n",
    "train(NUM_EPOCHS, model, optimizer, loss_fn)"
   ]
  },
  {
   "cell_type": "code",
   "execution_count": 70,
   "id": "74749519-3932-4403-b6e6-69ba2bf494d6",
   "metadata": {},
   "outputs": [],
   "source": [
    "from torchvision.utils import save_image\n",
    "def inference(digit, num_examples=1):\n",
    "    images = []\n",
    "    idx = 0\n",
    "    for x, y in dataset:\n",
    "        if y == idx:\n",
    "            images.append(x)\n",
    "            idx += 1\n",
    "        if idx == 10:\n",
    "            break\n",
    "\n",
    "    encodings_digit = []\n",
    "    for d in range(10):\n",
    "        with torch.no_grad():\n",
    "            mu, sigma = model.encode(images[d].view(1, 784))\n",
    "        encodings_digit.append((mu, sigma))\n",
    "\n",
    "    mu, sigma = encodings_digit[digit]\n",
    "    for example in range(num_examples):\n",
    "        epsilon = torch.randn_like(sigma)\n",
    "        z = mu + sigma * epsilon\n",
    "        out = model.decode(z)\n",
    "        out = out.view(-1, 1, 28, 28)\n",
    "        transform = transforms.Compose([\n",
    "            transforms.ToPILImage(),\n",
    "            transforms.Resize(size=214),\n",
    "            transforms.ToTensor()\n",
    "        ])\n",
    "        out = [transform(x_) for x_ in out]\n",
    "        save_image(out, f\"generated_{digit}_ex{example}.png\")\n",
    "        \n",
    "\n",
    "inference(2,5)"
   ]
  },
  {
   "cell_type": "code",
   "execution_count": 71,
   "id": "3e654f53-3cf5-4c7a-8818-d5c3f62c364c",
   "metadata": {},
   "outputs": [
    {
     "data": {
      "image/png": "[encoded data removed]",
      "text/plain": [
       "<PIL.PngImagePlugin.PngImageFile image mode=RGB size=214x214>"
      ]
     },
     "metadata": {},
     "output_type": "display_data"
    },
    {
     "data": {
      "image/png": "[encoded data removed]",
      "text/plain": [
       "<PIL.PngImagePlugin.PngImageFile image mode=RGB size=214x214>"
      ]
     },
     "metadata": {},
     "output_type": "display_data"
    },
    {
     "data": {
      "image/png": "[encoded data removed]",
      "text/plain": [
       "<PIL.PngImagePlugin.PngImageFile image mode=RGB size=214x214>"
      ]
     },
     "metadata": {},
     "output_type": "display_data"
    },
    {
     "data": {
      "image/png": "[encoded data removed]",
      "text/plain": [
       "<PIL.PngImagePlugin.PngImageFile image mode=RGB size=214x214>"
      ]
     },
     "metadata": {},
     "output_type": "display_data"
    },
    {
     "data": {
      "image/png": "[encoded data removed]",
      "text/plain": [
       "<PIL.PngImagePlugin.PngImageFile image mode=RGB size=214x214>"
      ]
     },
     "metadata": {},
     "output_type": "display_data"
    }
   ],
   "source": [
    "import os\n",
    "import matplotlib.pyplot as plt\n",
    "import numpy as np\n",
    "import IPython.display as display\n",
    "import glob\n",
    "from PIL import Image\n",
    "for image_path in glob.glob(\"*.png\"):\n",
    "     display.display(Image.open(str(image_path)))"
   ]
  }
 ],
 "metadata": {
  "kernelspec": {
   "display_name": "Python 3 (ipykernel)",
   "language": "python",
   "name": "python3"
  },
  "language_info": {
   "codemirror_mode": {
    "name": "ipython",
    "version": 3
   },
   "file_extension": ".py",
   "mimetype": "text/x-python",
   "name": "python",
   "nbconvert_exporter": "python",
   "pygments_lexer": "ipython3",
   "version": "3.11.3"
  }
 },
 "nbformat": 4,
 "nbformat_minor": 5
}
